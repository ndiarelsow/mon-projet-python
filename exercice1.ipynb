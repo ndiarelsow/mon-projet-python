{
 "cells": [
  {
   "cell_type": "markdown",
   "metadata": {},
   "source": [
    "# Clustering\n",
    "## Les données"
   ]
  },
  {
   "cell_type": "markdown",
   "metadata": {},
   "source": [
    "Pour ce exercice, nous tenterons d'utiliser le clustering **K-Means** pour regrouper les universités en deux groupes, privés et publics. Nous utiliserons une base de données avec 777 observations sur les 18 variables suivantes."
   ]
  },
  {
   "cell_type": "markdown",
   "metadata": {},
   "source": [
    "* Private Un facteur avec les niveaux Non et Oui indiquant une université privée ou publique\n",
    "* Apps Nombre de candidatures reçues\n",
    "* Accept Nombre d'applications acceptées\n",
    "* Enroll Nombre de nouveaux étudiants inscrits\n",
    "* Top10perc PCT. nouveaux étudiants parmi les 10% supérieurs de H.S. classe\n",
    "* Top25perc PCT. nouveaux étudiants parmi les 25% supérieurs de H.S. classe\n",
    "* F.Undergrad Nombre d'étudiants à temps plein\n",
    "* P.Undergrad Nombre d'étudiants de premier cycle à temps partiel\n",
    "* Outstate Frais de scolarité hors de l'État\n",
    "* Room.Board Frais de chambre et de pension\n",
    "* Livres Coûts estimés des livres\n",
    "* Dépenses personnelles estimées personnelles\n",
    "* PhD Pct. des professeurs titulaires d'un doctorat\n",
    "* Terminal PCT. du corps professoral avec diplôme terminal\n",
    "* Ratio S.F. Ratio étudiants / professeurs\n",
    "* perc.alumni PCT. anciens qui font un don\n",
    "* Dépense. les dépenses d'enseignement par élève\n",
    "* Grad.Rate Taux de diplomation"
   ]
  },
  {
   "cell_type": "markdown",
   "metadata": {},
   "source": [
    "## Q1: Chargement des données"
   ]
  },
  {
   "cell_type": "markdown",
   "metadata": {},
   "source": [
    "**a. Lisez le fichier College_Data à l'aide de read_csv. Découvrez comment définir la première colonne comme index.**"
   ]
  },
  {
   "cell_type": "code",
   "execution_count": 52,
   "metadata": {},
   "outputs": [],
   "source": [
    "#code ici"
   ]
  },
  {
   "cell_type": "markdown",
   "metadata": {},
   "source": [
    "**b.Vérifiez les premier lignes avec la finction head()**"
   ]
  },
  {
   "cell_type": "code",
   "execution_count": 53,
   "metadata": {},
   "outputs": [],
   "source": [
    "#code ici"
   ]
  },
  {
   "cell_type": "markdown",
   "metadata": {},
   "source": [
    "**c.  Vérifiez les informations sur les données avec la méthodes info().**"
   ]
  },
  {
   "cell_type": "code",
   "execution_count": 54,
   "metadata": {},
   "outputs": [],
   "source": [
    "#code ici"
   ]
  },
  {
   "cell_type": "markdown",
   "metadata": {},
   "source": [
    "**d. faites une description des données avec la methode describe ().**"
   ]
  },
  {
   "cell_type": "code",
   "execution_count": 55,
   "metadata": {},
   "outputs": [],
   "source": [
    "#code ici"
   ]
  },
  {
   "cell_type": "markdown",
   "metadata": {},
   "source": [
    "## Q2: Analyse exploratoire"
   ]
  },
  {
   "cell_type": "markdown",
   "metadata": {},
   "source": [
    "**a. Créez un nuage de points (scatterplot) de Grad.Rate versus Room.Board (et leur ajustement linéaire) où les points sont colorés par la colonne Private.**"
   ]
  },
  {
   "cell_type": "code",
   "execution_count": 56,
   "metadata": {},
   "outputs": [],
   "source": [
    "#code ici"
   ]
  },
  {
   "cell_type": "markdown",
   "metadata": {},
   "source": [
    "**b. Créez un nuage de points de F.Undergrad versus Outstate où les points sont colorés par la colonne Private.**\n"
   ]
  },
  {
   "cell_type": "code",
   "execution_count": 57,
   "metadata": {},
   "outputs": [],
   "source": [
    "#code ici"
   ]
  },
  {
   "cell_type": "markdown",
   "metadata": {},
   "source": [
    "**c. Que pouvez-vous dire a partir du graphique ci-dessus?**"
   ]
  },
  {
   "cell_type": "markdown",
   "metadata": {},
   "source": [
    "**Réponse**\n",
    "\n"
   ]
  },
  {
   "cell_type": "markdown",
   "metadata": {},
   "source": [
    "**d. Créer une boîte à moustaches (boxplot) du ratio étudiants-professeurs en fonction du type d'université**"
   ]
  },
  {
   "cell_type": "code",
   "execution_count": 58,
   "metadata": {},
   "outputs": [],
   "source": [
    "#code ici"
   ]
  },
  {
   "cell_type": "markdown",
   "metadata": {},
   "source": [
    "**e.Créez une boîte à moustaches du pourcentage d'anciens (perc.alumni) qui font un don en fonction du type d'université**"
   ]
  },
  {
   "cell_type": "code",
   "execution_count": 59,
   "metadata": {},
   "outputs": [],
   "source": [
    "#code ici"
   ]
  },
  {
   "cell_type": "markdown",
   "metadata": {},
   "source": [
    "**d. Créez un histogramme empilé montrant les frais de scolarité hors État en fonction de la colonne Private.**"
   ]
  },
  {
   "cell_type": "code",
   "execution_count": 60,
   "metadata": {},
   "outputs": [],
   "source": [
    "#code ici"
   ]
  },
  {
   "cell_type": "markdown",
   "metadata": {},
   "source": [
    "**d. Créez un histogramme similaire pour la colonne Grad.Rate.**"
   ]
  },
  {
   "cell_type": "code",
   "execution_count": 61,
   "metadata": {},
   "outputs": [],
   "source": [
    "#code ici"
   ]
  },
  {
   "cell_type": "markdown",
   "metadata": {},
   "source": [
    "**e. Quelle anomalie pouvez vous detetecter sur ce graphique?**"
   ]
  },
  {
   "cell_type": "markdown",
   "metadata": {},
   "source": [
    "**Réponse**\n",
    "\n"
   ]
  },
  {
   "cell_type": "code",
   "execution_count": 62,
   "metadata": {},
   "outputs": [],
   "source": [
    "#code ici"
   ]
  },
  {
   "cell_type": "markdown",
   "metadata": {},
   "source": [
    "**f. Réglez le taux de diplomation de cette école à 100 pour que cela soit logique. Vous pouvez recevoir un avertissement et non une erreur) lors de cette opération, utilisez donc des opérations de trame de données ou refaites simplement la visualisation de l'histogramme pour vous assurer qu'elle a bien été effectuée.**"
   ]
  },
  {
   "cell_type": "code",
   "execution_count": 63,
   "metadata": {},
   "outputs": [],
   "source": [
    "#code ici"
   ]
  },
  {
   "cell_type": "markdown",
   "metadata": {},
   "source": [
    "**g. Vérifier que le problème est réglé**"
   ]
  },
  {
   "cell_type": "code",
   "execution_count": 64,
   "metadata": {},
   "outputs": [],
   "source": [
    "#code ici"
   ]
  },
  {
   "cell_type": "code",
   "execution_count": 65,
   "metadata": {},
   "outputs": [],
   "source": [
    "#code ici"
   ]
  },
  {
   "cell_type": "markdown",
   "metadata": {},
   "source": [
    "## Q3: K Means Cluster Creation\n",
    "\n"
   ]
  },
  {
   "cell_type": "markdown",
   "metadata": {},
   "source": [
    "**a. Créez une instance d'un modèle K Means avec 2 clusters.**"
   ]
  },
  {
   "cell_type": "code",
   "execution_count": 67,
   "metadata": {},
   "outputs": [],
   "source": [
    "#code ici"
   ]
  },
  {
   "cell_type": "markdown",
   "metadata": {},
   "source": [
    "**b. Entrainer le modèle sur toutes les données à l'exception de l'étiquette Private. avec la fonction _fit_**"
   ]
  },
  {
   "cell_type": "code",
   "execution_count": 68,
   "metadata": {},
   "outputs": [],
   "source": [
    "#code ici"
   ]
  },
  {
   "cell_type": "markdown",
   "metadata": {},
   "source": [
    "**c. Quels sont les vecteurs de centre de cluster?**"
   ]
  },
  {
   "cell_type": "code",
   "execution_count": 69,
   "metadata": {},
   "outputs": [],
   "source": [
    "#code ici"
   ]
  },
  {
   "cell_type": "markdown",
   "metadata": {},
   "source": [
    "**d. Maintenant, comparez ces centres de cluster (pour toutes les dimensions / caractéristiques) aux moyennes connues des données étiquetées**"
   ]
  },
  {
   "cell_type": "code",
   "execution_count": 70,
   "metadata": {},
   "outputs": [],
   "source": [
    "#code ici"
   ]
  },
  {
   "cell_type": "code",
   "execution_count": 71,
   "metadata": {},
   "outputs": [],
   "source": [
    "#code ici"
   ]
  },
  {
   "cell_type": "markdown",
   "metadata": {},
   "source": [
    "**e. Créer un bloc de données avec des centres de cluster et avec des noms de colonnes empruntés au bloc de données d'origine**\n",
    "\n",
    "**Cette base de données indique-t-elle quelle étiquette correspond au collège privé (0 ou 1)?**"
   ]
  },
  {
   "cell_type": "code",
   "execution_count": 72,
   "metadata": {},
   "outputs": [],
   "source": [
    "#code ici"
   ]
  },
  {
   "cell_type": "markdown",
   "metadata": {},
   "source": [
    "**f. Quelles sont les étiquettes de cluster?**"
   ]
  },
  {
   "cell_type": "code",
   "execution_count": 73,
   "metadata": {},
   "outputs": [],
   "source": [
    "#code ici"
   ]
  },
  {
   "cell_type": "markdown",
   "metadata": {},
   "source": [
    "## Q4. Evaluation"
   ]
  },
  {
   "cell_type": "markdown",
   "metadata": {},
   "source": [
    "Il n'y a pas de moyen parfait d'évaluer le clustering si vous n'avez pas les étiquettes, mais comme il ne s'agit que d'un exercice, nous avons les étiquettes, nous en profitons donc pour évaluer nos clusters, gardez à l'esprit que vous avez généralement gagné '' J'ai ce luxe dans le monde réel."
   ]
  },
  {
   "cell_type": "markdown",
   "metadata": {},
   "source": [
    "**a. Créez une nouvelle colonne pour df appelée «Cluster», qui est un 1 pour une école privée et un 0 pour une école publique.**"
   ]
  },
  {
   "cell_type": "code",
   "execution_count": 74,
   "metadata": {},
   "outputs": [],
   "source": [
    "#code ici"
   ]
  },
  {
   "cell_type": "code",
   "execution_count": 75,
   "metadata": {},
   "outputs": [],
   "source": [
    "#code ici"
   ]
  },
  {
   "cell_type": "code",
   "execution_count": 76,
   "metadata": {},
   "outputs": [],
   "source": [
    "#code ici"
   ]
  },
  {
   "cell_type": "markdown",
   "metadata": {},
   "source": [
    "**b. Créez une matrice de confusion et un rapport de classification pour voir dans quelle mesure le clustering K Means a fonctionné sans recevoir d'étiquettes.**"
   ]
  },
  {
   "cell_type": "code",
   "execution_count": 77,
   "metadata": {},
   "outputs": [],
   "source": [
    "#code ici"
   ]
  },
  {
   "cell_type": "markdown",
   "metadata": {},
   "source": [
    "## Q5: Performances de clustering (par exemple, distance entre les centres de gravité)"
   ]
  },
  {
   "cell_type": "markdown",
   "metadata": {},
   "source": [
    "**a. Créez deux blocs de données constitués uniquement de données universitaires privées ou publiques**"
   ]
  },
  {
   "cell_type": "code",
   "execution_count": 78,
   "metadata": {},
   "outputs": [],
   "source": [
    "#code ici"
   ]
  },
  {
   "cell_type": "markdown",
   "metadata": {},
   "source": [
    "**c. Jouez avec des paramètres tels que max_iter et n_init et calculez les distances du centre de gravité du cluster**"
   ]
  },
  {
   "cell_type": "code",
   "execution_count": 79,
   "metadata": {},
   "outputs": [],
   "source": [
    "#code ici"
   ]
  }
 ],
 "metadata": {
  "kernelspec": {
   "display_name": "Python 3",
   "language": "python",
   "name": "python3"
  },
  "language_info": {
   "codemirror_mode": {
    "name": "ipython",
    "version": 3
   },
   "file_extension": ".py",
   "mimetype": "text/x-python",
   "name": "python",
   "nbconvert_exporter": "python",
   "pygments_lexer": "ipython3",
   "version": "3.8.8"
  }
 },
 "nbformat": 4,
 "nbformat_minor": 4
}
